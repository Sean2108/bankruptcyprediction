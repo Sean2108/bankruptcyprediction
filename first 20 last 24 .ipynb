{
 "cells": [
  {
   "cell_type": "code",
   "execution_count": 3,
   "metadata": {},
   "outputs": [],
   "source": [
    "import pickle"
   ]
  },
  {
   "cell_type": "code",
   "execution_count": 4,
   "metadata": {},
   "outputs": [],
   "source": [
    "with open('financial_statements.pickle', 'rb') as fp:\n",
    "    data = pickle.load(fp)"
   ]
  },
  {
   "cell_type": "code",
   "execution_count": 5,
   "metadata": {},
   "outputs": [
    {
     "data": {
      "text/plain": [
       "['SimFin ID',\n",
       " 'company',\n",
       " 'ticker',\n",
       " 'financial year end (month)',\n",
       " 'industry code',\n",
       " 'Share Price',\n",
       " 'Common Shares Outstanding',\n",
       " 'Avg. Basic Shares Outstanding',\n",
       " 'Avg. Diluted Shares Outstanding',\n",
       " 'Revenues',\n",
       " 'COGS',\n",
       " 'SG&A',\n",
       " 'EBIT',\n",
       " 'EBITDA',\n",
       " 'Net Income from Discontinued Op.',\n",
       " 'Net Profit',\n",
       " 'Dividends',\n",
       " 'Cash and Cash Equivalents',\n",
       " 'Receivables',\n",
       " 'Current Assets',\n",
       " 'Net PP&E',\n",
       " 'Intangible Assets',\n",
       " 'Goodwill',\n",
       " 'Total Noncurrent Assets',\n",
       " 'Total Assets',\n",
       " 'Short term debt',\n",
       " 'Accounts Payable',\n",
       " 'Current Liabilities',\n",
       " 'Long Term Debt',\n",
       " 'Total Noncurrent Liabilities',\n",
       " 'Total Liabilities',\n",
       " 'Preferred Equity',\n",
       " 'Share Capital',\n",
       " 'Treasury Stock',\n",
       " 'Retained Earnings',\n",
       " 'Equity Before Minorities',\n",
       " 'Minorities',\n",
       " 'Total Equity',\n",
       " 'Cash From Operating Activities',\n",
       " 'Cash From Investing Activities',\n",
       " 'Cash From Financing Activities',\n",
       " 'Net Change in Cash']"
      ]
     },
     "execution_count": 5,
     "metadata": {},
     "output_type": "execute_result"
    }
   ],
   "source": [
    "[x for x in data[0]]"
   ]
  },
  {
   "cell_type": "code",
   "execution_count": 6,
   "metadata": {},
   "outputs": [],
   "source": [
    "for obj in data:\n",
    "    for key in obj:\n",
    "        if isinstance(obj[key], list):\n",
    "            for i in range(len(obj[key])):\n",
    "                try:\n",
    "                    obj[key][i] = float(obj[key][i])\n",
    "                except ValueError:\n",
    "                    obj[key][i] = None"
   ]
  },
  {
   "cell_type": "code",
   "execution_count": 7,
   "metadata": {},
   "outputs": [
    {
     "data": {
      "text/plain": [
       "[14.238,\n",
       " 17.968,\n",
       " 21.469,\n",
       " 23.638,\n",
       " 28.293,\n",
       " 25.786,\n",
       " 24.907,\n",
       " 26.846,\n",
       " 19.156,\n",
       " 23.706,\n",
       " 24.159,\n",
       " 70.293,\n",
       " 56.935,\n",
       " 37.617,\n",
       " 21.974,\n",
       " 41.524,\n",
       " 44.526,\n",
       " 43.282,\n",
       " 42.444,\n",
       " 44.612,\n",
       " 41.563,\n",
       " 46.359,\n",
       " 49.865,\n",
       " 37.78,\n",
       " 41.626,\n",
       " 41.048,\n",
       " 37.685]"
      ]
     },
     "execution_count": 7,
     "metadata": {},
     "output_type": "execute_result"
    }
   ],
   "source": [
    "[x for x in data[0]['EBIT'] if x]"
   ]
  },
  {
   "cell_type": "code",
   "execution_count": 2,
   "metadata": {},
   "outputs": [],
   "source": [
    "# X41\ttotal liabilities / ((profit on operating activities + depreciation) * (12/365)) \n",
    "# X42\tprofit on operating activities / sales \n",
    "# X43\trotation receivables + inventory turnover in days \n",
    "# X44\t(receivables * 365) / sales \n",
    "# X45\tnet profit / inventory \n",
    "# X46\t(current assets - inventory) / short-term liabilities \n",
    "# X47\t(inventory * 365) / cost of products sold \n",
    "# X48\tEBITDA (profit on operating activities - depreciation) / total assets \n",
    "# X49\tEBITDA (profit on operating activities - depreciation) / sales \n",
    "# X50\tcurrent assets / total liabilities \n",
    "# X51\tshort-term liabilities / total assets \n",
    "# X52\t(short-term liabilities * 365) / cost of products sold) \n",
    "# X53\tequity / fixed assets \n",
    "# X54\tconstant capital / fixed assets \n",
    "# X55\tworking capital \n",
    "# X56\t(sales - cost of products sold) / sales \n",
    "# X57\t(current assets - inventory - short-term liabilities) / (sales - gross profit - depreciation) \n",
    "# X58\ttotal costs /total sales \n",
    "# X59\tlong-term liabilities / equity \n",
    "# X60\tsales / inventory \n",
    "# X61\tsales / receivables \n",
    "# X62\t(short-term liabilities *365) / sales \n",
    "# X63\tsales / short-term liabilities \n",
    "# X64\tsales / fixed assets\n",
    "\n",
    "def get_last_24_features(obj):\n",
    "    def catchError(obj, i, func):\n",
    "        try:\n",
    "            return func(obj, i)\n",
    "        except (TypeError, ZeroDivisionError):\n",
    "            return '';\n",
    "    funcs = {\n",
    "        \n",
    "         # X1:net profit / total assets \n",
    "        'X1': lambda obj, i: obj['Net Profit'][i] / obj['Total Assets'][i],\n",
    "        \n",
    "        # X2:total liabilities / total assets \n",
    "        'X2': lambda obj, i: obj['Total Liabilities'][i] / obj['Total Assets'][i],\n",
    "        \n",
    "        # X3:working capital / total assets \n",
    "        # working capital = current assets - current liabilities \n",
    "        'X3': lambda obj, i: (obj['Current Assets'][i] - obj['Current Liabilities'][i]) / obj['Total Assets'][i], \n",
    "        \n",
    "        # X4:current assets / short-term liabilities \n",
    "        # assume short term liability = current liability\n",
    "        'X4': lambda obj, i:  obj['Current Assets'][i] / obj['Current Liabilities'][i], \n",
    "        \n",
    "        # X5:[(cash + short-term securities + receivables - short-term liabilities) / (operating expenses - depreciation)] * 365\n",
    "        # cash + short-term securities + receivables = current assets\n",
    "        #  Operating expenses - depreciation = sg&A   \n",
    "        'X5': lambda obj, i: (obj['Current Assets'][i]-obj['Current Liabilities'][i]) / obj['SG&A'][i] * 365,\n",
    "        \n",
    "        # X6:retained earnings / total assets \n",
    "        'X6': lambda obj, i: obj['Retained Earnings'][i] / obj['Total Assets'][i],\n",
    "        \n",
    "        # X7:EBIT / total assets \n",
    "        'X7': lambda obj, i: obj['EBIT'][i] / obj['Total Assets'][i],\n",
    "        \n",
    "        # X8:book value of equity / total liabilities \n",
    "        # book value of equity = total assests - total liabilities\n",
    "        'X8': lambda obj, i: (obj['Total Assets'][i]-obj['Total Liabilities'][i]) / obj['Total Liabilities'][i], \n",
    "        \n",
    "        # X9:sales / total assets \n",
    "        'X9': lambda obj, i: obj['Revenues'][i] / obj['Total Assets'][i],\n",
    "        \n",
    "        # X10:equity / total assets \n",
    "        'X10': lambda obj, i: obj['Total Equity'][i] / obj['Total Assets'][i], \n",
    "        \n",
    "        # X11:(gross profit + extraordinary items + financial expenses) / total assets\n",
    "        # extroordinary items and financial expenses missing\n",
    "        'X11': lambda obj, i: '', \n",
    "        \n",
    "        # X12:gross profit / short-term liabilities\n",
    "        # gross profit = revenue - cogs \n",
    "        'X12': lambda obj, i: (obj['Revenues'][i]-obj['COGS'][i]) / obj['Current Liabilities'][i],\n",
    "       \n",
    "        # X13:(gross profit + depreciation) / sales \n",
    "        # depreciation = operating expenses - sg&A = gross profit - net income - sg&A\n",
    "        # gross profit + depreciation = 2 * gross profit -net income - sg&A\n",
    "        'X13': lambda obj, i: (2 * (obj['Revenues'][i]-obj['COGS'][i]) - obj['Net Profit'][i] - obj['SG&A'][i]) / obj['Revenues'][i],\n",
    "        \n",
    "        # X14:(gross profit + interest) / total assets \n",
    "        # interest missing\n",
    "        'X14': lambda obj, i:  '', \n",
    "        \n",
    "        # X15:(total liabilities * 365) / (gross profit + depreciation) \n",
    "        # gross profit + depreciation = 2 * gross profit -net income - sg&A\n",
    "        'X15': lambda obj, i: (obj['Total Liabilities'][i] * 365) / (2 * (obj['Revenues'][i]-obj['COGS'][i]) - obj['Net Profit'][i] - obj['SG&A'][i]), \n",
    "        \n",
    "        # X16:(gross profit + depreciation) / total liabilities \n",
    "        'X16': lambda obj, i: (2 * (obj['Revenues'][i]-obj['COGS'][i]) - obj['Net Profit'][i] - obj['SG&A'][i]) / obj['Total Liabilities'][i], \n",
    "        \n",
    "        # X17:total assets / total liabilities \n",
    "        'X17': lambda obj, i: obj['Tota Assets'][i] / obj['Toal Liabilities'][i],\n",
    "        \n",
    "        # X18:gross profit / total assets\n",
    "        'X18': lambda obj, i: (obj['Revenues'][i]-obj['COGS'][i]) / obj['Total Assets'][i],\n",
    "        \n",
    "        # X19:gross profit / sales \n",
    "        'X19': lambda obj, i: (obj['Revenues'][i]-obj['COGS'][i]) / obj['Revenues'][i],\n",
    "        \n",
    "         # X20:(inventory * 365) / sales\n",
    "        # inventory missing\n",
    "        'X20': lambda obj, i: '', \n",
    "        \n",
    "        'x41': lambda obj, i: obj['Total Liabilities'][i] / (obj['EBIT'][i] * (12.0/365.0)),\n",
    "        'x42': lambda obj, i: obj['EBIT'][i] / obj['Revenues'][i],\n",
    "        'x43': lambda obj, i: '', # inventory missing\n",
    "        'x44': lambda obj, i: obj['Receivables'][i] * 365 / obj['Revenues'][i],\n",
    "        'x45': lambda obj, i: '', # inventory missing\n",
    "        'x46': lambda obj, i: '', # inventory missing\n",
    "        'x47': lambda obj, i: '', # inventory missing\n",
    "        'x48': lambda obj, i: obj['EBITDA'][i] / obj['Total Assets'][i],\n",
    "        'x49': lambda obj, i: obj['EBITDA'][i] / obj['Revenues'][i],\n",
    "        'x50': lambda obj, i: obj['Current Assets'][i] / obj['Total Liabilities'][i],\n",
    "        'x51': lambda obj, i: obj['Current Liabilities'][i] / obj['Total Assets'][i], # assume short term liability === current liability\n",
    "        'x52': lambda obj, i: obj['Current Liabilities'][i] * 365 / obj['COGS'][i],\n",
    "        'x53': lambda obj, i: obj['Total Equity'][i] / obj['Total Noncurrent Assets'][i],\n",
    "        'x54': lambda obj, i: obj['Net PP&E'][i] / obj['Total Noncurrent Assets'][i],\n",
    "        'x55': lambda obj, i: obj['Current Assets'][i] - obj['Current Liabilities'][i],\n",
    "        'x56': lambda obj, i: (obj['Revenues'][i] - obj['COGS'][i]) / obj['Revenues'][i],\n",
    "        'x57': lambda obj, i: '', # inventory missing\n",
    "        'x58': lambda obj, i: (obj['Revenues'][i] - obj['Net Profit'][i]) / obj['Revenues'][i],\n",
    "        'x59': lambda obj, i: obj['Total Noncurrent Liabilities'][i] / obj['Total Equity'][i],\n",
    "        'x60': lambda obj, i: '', # inventory missing\n",
    "        'x61': lambda obj, i: obj['Revenues'][i] / obj['Receivables'][i],\n",
    "        'x62': lambda obj, i: obj['Current Liabilities'][i] * 365 / obj['Revenues'][i],\n",
    "        'x63': lambda obj, i: obj['Revenues'][i] / obj['Current Liabilities'][i],\n",
    "        'x64': lambda obj, i: obj['Revenues'][i] / obj['Total Noncurrent Assets'][i]\n",
    "    }\n",
    "    res = {ratio:[catchError(obj, i, funcs[ratio]) for i in range(len(obj['Share Price']))] for ratio in funcs}\n",
    "    return res"
   ]
  },
  {
   "cell_type": "code",
   "execution_count": 1,
   "metadata": {},
   "outputs": [
    {
     "ename": "NameError",
     "evalue": "name 'get_last_24_features' is not defined",
     "output_type": "error",
     "traceback": [
      "\u001b[1;31m---------------------------------------------------------------------------\u001b[0m",
      "\u001b[1;31mNameError\u001b[0m                                 Traceback (most recent call last)",
      "\u001b[1;32m<ipython-input-1-7c5cf2ee68d9>\u001b[0m in \u001b[0;36m<module>\u001b[1;34m\u001b[0m\n\u001b[1;32m----> 1\u001b[1;33m \u001b[0mx\u001b[0m \u001b[1;33m=\u001b[0m \u001b[0mget_last_24_features\u001b[0m\u001b[1;33m(\u001b[0m\u001b[0mdata\u001b[0m\u001b[1;33m[\u001b[0m\u001b[1;36m0\u001b[0m\u001b[1;33m]\u001b[0m\u001b[1;33m)\u001b[0m\u001b[1;33m\u001b[0m\u001b[1;33m\u001b[0m\u001b[0m\n\u001b[0m",
      "\u001b[1;31mNameError\u001b[0m: name 'get_last_24_features' is not defined"
     ]
    }
   ],
   "source": [
    "x = get_last_24_features(data[0])"
   ]
  },
  {
   "cell_type": "code",
   "execution_count": 31,
   "metadata": {},
   "outputs": [
    {
     "data": {
      "text/plain": [
       "[304.3097988949759,\n",
       " 179.13805097951916,\n",
       " 185.53047417206204,\n",
       " 147.66199199029813,\n",
       " 106.63625572874328,\n",
       " 95.31247576204143,\n",
       " 168.12392098606819,\n",
       " 115.3864169708709,\n",
       " 127.30508717895178,\n",
       " 104.50805351669057,\n",
       " 167.0958890406612,\n",
       " 159.1538571882454,\n",
       " 156.6221934369603,\n",
       " 231.91687490584937,\n",
       " 558.3494508661753,\n",
       " 276.2185523231545,\n",
       " 196.3181811376125,\n",
       " 182.96592694422628,\n",
       " 270.12743261709545,\n",
       " 226.51730476105087,\n",
       " 193.51390258964304,\n",
       " 177.30162967277118,\n",
       " 150.3814883518834,\n",
       " 256.03861169931184,\n",
       " 181.2212519418953,\n",
       " 189.68550030858182,\n",
       " 197.44076997921368]"
      ]
     },
     "execution_count": 31,
     "metadata": {},
     "output_type": "execute_result"
    }
   ],
   "source": [
    "[a for a in x['x41'] if a != '']"
   ]
  },
  {
   "cell_type": "code",
   "execution_count": null,
   "metadata": {},
   "outputs": [],
   "source": []
  }
 ],
 "metadata": {
  "kernelspec": {
   "display_name": "Python 3",
   "language": "python",
   "name": "python3"
  },
  "language_info": {
   "codemirror_mode": {
    "name": "ipython",
    "version": 3
   },
   "file_extension": ".py",
   "mimetype": "text/x-python",
   "name": "python",
   "nbconvert_exporter": "python",
   "pygments_lexer": "ipython3",
   "version": "3.7.1"
  }
 },
 "nbformat": 4,
 "nbformat_minor": 2
}
