{
 "cells": [
  {
   "cell_type": "code",
   "execution_count": 1,
   "metadata": {},
   "outputs": [
    {
     "name": "stderr",
     "output_type": "stream",
     "text": [
      "Using TensorFlow backend.\n"
     ]
    }
   ],
   "source": [
    "import pickle\n",
    "from matplotlib import pyplot as plt\n",
    "import numpy as np\n",
    "from keras.models import Sequential\n",
    "from keras.layers import Dense, LSTM, GRU, SimpleRNN, Dropout\n",
    "from sklearn.preprocessing import MinMaxScaler\n",
    "from sklearn.metrics import roc_curve, auc, confusion_matrix\n",
    "from sklearn.model_selection import train_test_split\n",
    "from keras import optimizers\n",
    "from tensorflow import set_random_seed\n",
    "from numpy.random import seed\n",
    "%matplotlib inline"
   ]
  },
  {
   "cell_type": "code",
   "execution_count": 2,
   "metadata": {},
   "outputs": [],
   "source": [
    "#set up matplotlib\n",
    "params = {'legend.fontsize': 'xx-large',\n",
    "          'figure.figsize': (30, 15),\n",
    "         'axes.labelsize': 'xx-large',\n",
    "         'axes.titlesize':'xx-large',\n",
    "         'xtick.labelsize':'xx-large',\n",
    "         'ytick.labelsize':'xx-large'}\n",
    "plt.rcParams.update(params)\n",
    "\n",
    "with open('data_with_ratios.pickle', 'rb') as fp:\n",
    "    data = pickle.load(fp)\n",
    "data[0]\n",
    "\n",
    "seed(700)\n",
    "set_random_seed(700)\n",
    "# lstm, gru\n",
    "#100 - 73, 67\n",
    "#42 - 60, 100\n",
    "# 200 - 74, 67\n",
    "# 300 - 70, 16\n",
    "# 400 - 73, 75 -- 65, 87\n",
    "# 500 - 69, 12 -- 72, 75\n",
    "# 600 - 75, 54 -- 76, 37\n",
    "# 700 - 59, 100"
   ]
  },
  {
   "cell_type": "code",
   "execution_count": 3,
   "metadata": {},
   "outputs": [
    {
     "name": "stdout",
     "output_type": "stream",
     "text": [
      "['bankrupt', 'company', 'debt_equity', 'equity', 'solvency', 'ticker', 'x10', 'x15', 'x16', 'x17', 'x2', 'x29', 'x3', 'x41', 'x50', 'x55', 'x7', 'x8']\n"
     ]
    }
   ],
   "source": [
    "def intersection(lst1, lst2): \n",
    "    return list(set(lst1) & set(lst2)) \n",
    "\n",
    "new_data = []\n",
    "bankrupt = []\n",
    "cols = data[0].keys()\n",
    "MIN_ROWS = 5\n",
    "ZSCORE = 1.8\n",
    "for obj in data:\n",
    "    if (len(obj.keys()) <= 28):\n",
    "        continue\n",
    "    cols = intersection(cols, obj.keys())\n",
    "cols = sorted(cols)\n",
    "print(cols)\n",
    "\n",
    "ground_truth = []\n",
    "ground_bankrupt = []\n",
    "\n",
    "for obj in data:\n",
    "    if not obj['bankrupt']:\n",
    "        continue\n",
    "    valid = True\n",
    "    new_obj = []\n",
    "    for i in range(MIN_ROWS):\n",
    "        new_vals = []\n",
    "        for key in cols:\n",
    "            if key not in obj:\n",
    "                valid = False\n",
    "                break\n",
    "            if (isinstance(obj[key], list) and key not in ['equity', 'roe', 'bad_solvency', 'debt_equity']):\n",
    "                if len(obj[key]) < MIN_ROWS:\n",
    "                    valid = False\n",
    "                    break\n",
    "                new_vals.append(obj[key][i]['value'])\n",
    "        new_obj.append(new_vals)\n",
    "    if (valid):\n",
    "        ground_bankrupt.append(True)\n",
    "        ground_truth.append(new_obj)\n",
    "\n",
    "for obj in data:\n",
    "    if obj['bankrupt']:\n",
    "        continue\n",
    "    valid = True\n",
    "    new_obj = []\n",
    "    for i in range(MIN_ROWS):\n",
    "        new_vals = []\n",
    "        for key in cols:\n",
    "            if key not in obj:\n",
    "                valid = False\n",
    "                break\n",
    "            if (isinstance(obj[key], list) and key not in ['equity', 'roe', 'bad_solvency', 'debt_equity']):\n",
    "                if len(obj[key]) < MIN_ROWS:\n",
    "                    valid = False\n",
    "                    break\n",
    "                new_vals.append(obj[key][i]['value'])\n",
    "        new_obj.append(new_vals)\n",
    "    if (valid):\n",
    "#         ban = obj['bankrupt']\n",
    "#         if 'zscore' in obj:\n",
    "#             for zscore in obj['zscore']:\n",
    "#                 if zscore['value'] < ZSCORE:\n",
    "#                     ban = True\n",
    "        neg_equity = False\n",
    "        neg_roe = False\n",
    "        bad_solvency = False\n",
    "        bad_debt = False\n",
    "        if 'equity' in obj:\n",
    "            for equity in obj['equity']:\n",
    "                if equity['value'] < 0:\n",
    "                    neg_equity = True\n",
    "        if 'roe' in obj:\n",
    "            current_roe = None\n",
    "            for roe in obj['roe']:\n",
    "                if current_roe and roe['value'] < current_roe / 2:\n",
    "                    neg_roe = True\n",
    "                current_roe = roe['value']\n",
    "        if 'bad_solvency' in obj:\n",
    "            for solv in obj['bad_solvency']:\n",
    "                if solv['value'] < 2:\n",
    "                    bad_solvency = True\n",
    "        if 'debt_equity' in obj:\n",
    "            for de in obj['debt_equity']:\n",
    "                if de['value'] > 2:\n",
    "                    bad_debt = True\n",
    "        bankrupt.append((neg_equity or neg_roe) and (bad_debt or bad_solvency))\n",
    "        new_data.append(new_obj)"
   ]
  },
  {
   "cell_type": "code",
   "execution_count": 4,
   "metadata": {},
   "outputs": [
    {
     "name": "stdout",
     "output_type": "stream",
     "text": [
      "True Bankrupt\n",
      "44\n",
      "['NCSO', 'ARO', 'ACI', 'ASNA', 'BONT', 'BKU', 'CPN', 'CIT', 'CMLS', 'CHTR', 'CIE', 'DAL', 'DNKN', 'DYN', 'DEST', 'DDMG', 'EFH', 'FRP', 'CK00007861', 'GGP', 'GGP', 'GM', 'ACF', 'GMAN', 'HCOM', 'ZINCQ', 'LEA', 'LEE', 'LNGG', 'LYB', 'MFRM', 'ODP', 'PIR', 'RFP', 'SHLD', 'SHO', 'SMRT', 'SIX', 'C730', 'CK00015847', '', 'TRCO', 'TSQ', 'TROX']\n",
      "Bankrupt by Z score\n",
      "747\n",
      "['FOX', 'ABT', 'AKR', 'ACCO', 'ARAY', 'ACW', 'ACRX', 'ACET', 'ADOM', 'ADT', 'ADRO', 'AMD', 'AEHR', 'ACY', 'AJRD', 'AES', 'AMG', 'SO', 'AIRI', 'AL', 'AKS', 'ALK', 'ALB', 'ALR', 'ALX', 'ALCO', 'ADS', 'LNT', 'AMOT', 'MDRX', 'ALNY', 'ANAV', 'ALPN', 'AEE', 'ABMC', 'AEP', 'AMSC', 'AMT', 'APU', 'AMP', 'FOLD', 'AMKR', 'AHS', 'APC', 'AVXL', 'AR', 'APA', 'AIV', 'ARCI', 'ARCW', 'ACI', 'PNW', 'AWI', 'ARTX', 'ARQL', 'ARRY', 'ASH', 'ASPN', 'ATRO', 'ASTC', 'T', 'AAWW', 'ATW', 'ADP', 'AVB', 'AVNW', 'AVA', 'ACLS', 'ACHC', 'ACAD', 'ACLZ', 'ADTM', 'ADPT', 'ASNB', 'AGHI', 'AA', 'ALEX', 'ARE', 'Y', 'ATI', 'AGN', 'ALE', 'ALSN', 'ALT', 'AMCX', 'UHAL', 'AAL', 'AGNC', 'AMH', 'ARA', 'AWK', 'AON', 'APIC', 'APVO', 'WTR', 'ACGL', 'ARNC', 'ASCMA', 'AINC', 'ABTL', 'AGR', 'AXON', 'BGS', 'BBSI', 'BBGI', 'BDX', 'BLCM', 'BRKA', 'BERY', 'BGCP', 'BLFS', 'BKH', 'BRRE', 'WIFI', 'BXP', 'BSX', 'BOX', 'BRC', 'BFAM', 'BVSN', 'BRKS', 'BRO', 'BSQR', 'BPL', 'BHGE', 'RATE', 'BSTG', 'BSPM', 'BLK', 'BX', 'BBRG', 'BRS', 'BRX', 'BURL', 'CLBS', 'CALD', 'CPE', 'CPN', 'ABCD', 'CPB', 'MJTK', 'CSU', 'CPST', 'CRR', 'CCL', 'CRZO', 'TAST', 'CAGU', 'CSLT', 'CATS', 'CAT', 'CBS', 'CDR', 'CTL', 'KOOL', 'CF', 'CRL', 'CKP', 'LNG', 'CBI', 'CHJI', 'CREG', 'CBB', 'CLF', 'CME', 'CMS', 'COKE', 'CCOI', 'CMRO', 'CMCSA', 'CSC', 'CAG', 'CNDT', 'CNXR', 'STZ', 'CLR', 'COOL', 'CORT', 'GLW', 'COTY', 'CSX', 'CMLS', 'CRIS', 'CY', 'CPT', 'CSII', 'CDNA', 'CE', 'CPXX', 'CLRB', 'CNP', 'CHTR', 'CCXI', 'CC', 'CQP', 'CHK', 'CHSP', 'CIDM', 'CLAR', 'CLNE', 'CLNT', 'CC', 'CNA', 'CIE', 'CDE', 'CHRS', 'COMM', 'CODI', 'CXO', 'CFMS', 'COP', 'ED', 'COR', 'CSOD', 'CUZ', 'CCI', 'CCK', 'CIK', 'CUBE', 'CTMX', 'DRI', 'DE', 'EXC', 'DAL', 'DXLG', 'DTRM', 'DVN', 'DHX', 'DISH', 'D', 'DTE', 'DUK', 'DNKN', 'DVAX', 'DYN', 'DVMT', 'XRAY', 'DIN', 'DISCA', 'DOW', 'DPS', 'DUK', 'DRE', 'DFT', 'SSP', 'ESTE', 'EGAN', 'EA', 'ETM', 'ETR', 'EPD', 'EVC', 'EQT', 'RE', 'EXA', 'XCO', 'EXEL', 'EXTR', 'ETN', 'EIX', 'ENDP', 'ENDP', 'EIGI', 'EFH', 'ETE', 'ES', 'ENVA', 'EQIX', 'ELS', 'EQR', 'ESS', 'EXC', 'EXPE', 'STAY', 'EXR', 'FRP', 'FOE', 'FGEN', 'FNSR', 'FNJN', 'FDC', 'FSLR', 'FE', 'FONR', 'F', 'FTR', 'FTEK', 'FCEL', 'FUL', 'FRT', 'FIS', 'FEYE', 'FBIO', 'FCPT', 'FRLF', 'AJG', 'GE', 'GEL', 'GEO', 'GERN', 'GIDYL', 'GOOD', 'GPN', 'GLUU', 'GTN', 'GDOT', 'GBX', 'GLGI', 'GFF', 'GTXI', 'GPOR', 'GLPI', 'GCI', 'IT', 'GGP', 'GM', 'GWR', 'GWRS', 'GDDY', 'GPRO', 'GT', 'AJX', 'GXP', 'GRMM', 'GRPN', 'GUID', 'HNRG', 'HALO', 'HRS', 'HCA', 'HCP', 'HDS', 'HLS', 'HEMA', 'HRI', 'HTZ', 'HOLX', 'HST', 'HPQ', 'HTGM', 'HDSN', 'HYH', 'HOG', 'HCOM', 'HES', 'HPE', 'HPJ', 'HIL', 'HI', 'HLT', 'HDP', 'HMHC', 'HUN', 'IDSY', 'IDA', 'IMDZ', 'IMGN', 'IPXL', 'IMSCQ', 'INCY', 'INFN', 'IAIC', 'IVDN', 'PODD', 'ICPT', 'IP', 'ISIL', 'SNAK', 'ITG', 'IQV', 'STAR', 'ITI', 'ITRI', 'INFU', 'IR', 'NSPR', 'GB', 'ICE', 'IGT', 'IPG', 'SNOW', 'IPI', 'IVZ', 'IRM', 'JCP', 'JMBA', 'JBLU', 'JBCT', 'JSDA', 'JNPR', 'KANP', 'HGEN', 'KSU', 'KAR', 'KBH', 'KEM', 'KMI', 'KND', 'KKR', 'KRO', 'KIM', 'KHC', 'LAMR', 'LCI', 'LTRX', 'LAYN', 'LFGR', 'LEE', 'LXRX', 'LPTH', 'LIVE', 'LNTH', 'LRDC', 'LAZ', 'LDOS', 'LC', 'TREE', 'LUK', 'LVLT', 'LBTYA', 'LMCA', 'LYV', 'MTSI', 'CALL', 'MNKD', 'VAC', 'MAS', 'MLP', 'MXWL', 'MNI', 'MDR', 'MTBC', 'MEIP', 'MDP', 'MTOR', 'MACK', 'MGEE', 'MGM', 'MCHP', 'MICR', 'MU', 'MVIS', 'MICT', 'MAA', 'MDXG', 'C099', 'MFON', 'TAP', 'MMEG', 'MWW', 'LABL', 'MUR', 'MYLI', 'MYAN', 'MAC', 'MIC', 'M', 'MNK', 'MRO', 'MAXD', 'MXPT', 'MECK', 'MFST', 'FE', 'NERV', 'MTEM', 'MDLZ', 'MSI', 'MNTM', 'MOXC', 'MYSZ', 'MYL', 'MYL', 'NDAQ', 'NHTC', 'NAV', 'NKTR', 'NPTN', 'NEPH', 'NLST', 'NJR', 'NYT', 'NEM', 'NXST', 'NEE', 'NBL', 'NWE', 'NRG', 'NUVA', 'NTRA', 'NCMI', 'NFG', 'NNN', 'NEOS', 'NBIX', 'NWL', 'NLSNNV', 'NMBL', 'NE', 'NSC', 'NCLH', 'NUAN', 'NTNX', 'OCN', 'ODFL', 'OHI', 'OMC', 'ON', 'OGS', 'OKE', 'ONVO', 'OUT', 'OI', 'OLIN', 'OMED', 'OPHT', 'OPRX', 'TIS', 'OTTR', 'PACB', 'PTN', 'PRXL', 'PSSR', 'PTEN', 'PESI', 'PCG', 'PGTI', 'PRLE', 'PNW', 'PSTI', 'PMXO', 'PPL', 'PGNX', 'PRTX', 'PRSC', 'PSEG', 'PHM', 'PBYI', 'PURE', 'PGRE', 'PK', 'PEGI', 'PAYC', 'PAH', 'PBH', 'IPDN', 'PLD', 'PROM', 'PRGB', 'PVHO', 'QEP', 'QCP', 'QNST', 'RSYS', 'RRC', 'RYAM', 'RICK', 'O', 'REED', 'RHE', 'MARK', 'REMI', 'RSG', 'REV', 'RAI', 'RIHT', 'RAD', 'RLJE', 'ROP', 'RDC', 'RCL', 'RUBI', 'RT', 'RDNT', 'RLOC', 'RLGY', 'RGC', 'REGN', 'REN', 'RFP', 'QSR', 'REXR', 'RNG', 'FUEL', 'R', 'SANW', 'SLNM', 'BFS', 'SBAC', 'SCG', 'SHLD', 'SFLY', 'SIGM', 'SIGN', 'SSNI', 'SPG', 'SBGI', 'SIRI', 'SLG', 'SLM', 'SOHU', 'SOFO', 'SJI', 'SO', 'LUV', 'SWN', 'LOV', 'SPNC', 'SPPI', 'S', 'SPXC', 'SSNC', 'SWK', 'SRCL', 'SGY', 'SGM', 'STOR', 'STRM', 'SYMC', 'SRPT', 'SPNE', 'SEE', 'SCWX', 'SRE', 'SNH', 'ST', 'SQBG', 'SSC', 'SHPGF', 'SHOR', 'SSNT', 'SIX', 'SRNE', 'SOHO', 'SWX', 'SE', 'C730', 'XSPY', 'SXC', 'RUN', 'SHO', 'SDPI', 'SPRT', 'TMUS', 'TTOO', 'TBTC', 'TTWO', 'TNDM', 'AMTD', 'TEL', 'TEN', 'GLBL', 'TEVA', 'TGLO', 'TST', 'TWX', 'TNET', 'TRN', 'TRT', 'TGI', 'TSSI', 'TTMI', 'TCX', 'TLCC', 'TRGP', 'FTI', 'TLRA', 'TFX', 'TSLA', 'TIME', 'TOCA', 'TOWR', 'TSQ', 'TRU', 'RIG', 'TROV', 'TRLI', 'TPB', 'HEAR', 'C208', 'UPL', 'UNP', 'UIS', 'URI', 'X', 'USAP', 'UOLI', 'UONE', 'USAT', 'UAL', 'UPLD', 'USG', 'EGY', 'MTN', 'VTR', 'VER', 'VRNT', 'VZ', 'VRTX', 'VIRC', 'VRX', 'VNTV', 'VAPE', 'WOOF', 'VSTM', 'VRSN', 'VRS', 'VSTO', 'VSLR', 'VNO', 'VMC', 'GRA', 'WEB', 'WSTC', 'WR', 'WSTL', 'WLB', 'WY', 'WGL', 'WMB', 'WIN', 'WK', 'WPX', 'WYN', 'WM', 'WFT', 'WFT', 'WRI', 'HCN', 'WEN', 'WRK', 'WGP', 'WU', 'WLTW', 'WEC', 'WYNN', 'XPO', 'XEL', 'XCRA', 'XRX', 'YHOO', 'ZIOP', 'ZGNX', 'ZYXI', 'IHRT', 'PSDV', 'MVEN']\n",
      "Intersect\n",
      "20\n",
      "{'SIX', 'CIE', 'DYN', 'CPN', 'CHTR', 'GM', 'RFP', 'DAL', 'DNKN', 'SHO', 'TSQ', 'LEE', 'GGP', 'HCOM', 'SHLD', 'C730', 'FRP', 'ACI', 'CMLS', 'EFH'}\n"
     ]
    }
   ],
   "source": [
    "true_bankrupt = []\n",
    "zscore_bankrupt = []\n",
    "for obj in data:\n",
    "    if obj['bankrupt']:\n",
    "        true_bankrupt.append(obj['ticker'])\n",
    "    if ('zscore' in obj):\n",
    "        for zscore in obj['zscore']:\n",
    "            if zscore['value'] < 1.8:\n",
    "                zscore_bankrupt.append(obj['ticker'])\n",
    "                break\n",
    "intersect = set(true_bankrupt) & set(zscore_bankrupt)\n",
    "print('True Bankrupt')\n",
    "print(len(true_bankrupt))\n",
    "print(true_bankrupt)\n",
    "print('Bankrupt by Z score')\n",
    "print(len(zscore_bankrupt))\n",
    "print(zscore_bankrupt)\n",
    "print('Intersect')\n",
    "print(len(intersect))\n",
    "print(intersect)"
   ]
  },
  {
   "cell_type": "code",
   "execution_count": 5,
   "metadata": {
    "scrolled": true
   },
   "outputs": [
    {
     "name": "stdout",
     "output_type": "stream",
     "text": [
      "['NCSO', 'ARO', 'ASNA', 'BONT', 'BKU', 'CIT', 'DEST', 'DDMG', 'CK00007861', 'ACF', 'GMAN', 'ZINCQ', 'LEA', 'LNGG', 'LYB', 'MFRM', 'ODP', 'PIR', 'SMRT', 'CK00015847', '', 'TRCO', 'TROX']\n",
      "ARO\n",
      "[{'date': '8/12/10', 'value': 9.42717009992146}, {'date': '3/6/11', 'value': 9.872457180713567}]\n",
      "ASNA\n",
      "[{'date': '9/6/11', 'value': 5.83933649983558}, {'date': '1/3/12', 'value': 6.97692340830925}, {'date': '4/3/13', 'value': 4.284513750136817}, {'date': '3/3/14', 'value': 4.790147416052633}, {'date': '3/3/15', 'value': 4.277927708003096}, {'date': '1/3/16', 'value': 2.2732138946707994}, {'date': '8/6/17', 'value': 2.9813499518295137}, {'date': '5/3/18', 'value': 3.031318404692856}]\n",
      "BONT\n",
      "[{'date': '7/12/11', 'value': 2.0314942241645726}, {'date': '11/4/12', 'value': 2.2940571223782764}, {'date': '17/4/13', 'value': 2.2748608137511175}, {'date': '16/4/14', 'value': 2.2829921108696043}, {'date': '15/4/15', 'value': 2.2215037249441414}, {'date': '13/4/16', 'value': 2.154344385539776}, {'date': '12/4/17', 'value': 2.0897161369881885}]\n",
      "DEST\n",
      "[{'date': '14/12/12', 'value': 5.346714753811707}, {'date': '13/12/13', 'value': 6.398632588580934}, {'date': '12/12/14', 'value': 3.875749063023228}, {'date': '11/6/15', 'value': 3.318114313267764}, {'date': '14/4/16', 'value': 2.7579716377774544}, {'date': '13/4/17', 'value': 2.6285304976284047}, {'date': '19/4/18', 'value': 2.137688947227117}]\n",
      "LEA\n",
      "[{'date': '29/4/11', 'value': 3.0002080457200435}, {'date': '17/2/12', 'value': 3.3782895069234185}, {'date': '12/2/13', 'value': 3.3065937850970206}, {'date': '11/2/14', 'value': 3.397551678479401}, {'date': '10/2/15', 'value': 3.541552907004214}, {'date': '9/2/16', 'value': 3.58588819228133}, {'date': '7/2/17', 'value': 3.891361467992807}, {'date': '6/2/18', 'value': 3.79585059989025}]\n",
      "LYB\n",
      "[{'date': '29/2/12', 'value': 4.026829397267687}, {'date': '12/2/13', 'value': 4.238323025886601}, {'date': '20/2/14', 'value': 4.424190680783471}, {'date': '17/2/15', 'value': 4.756057112956315}, {'date': '16/2/16', 'value': 4.327520060745388}, {'date': '17/2/17', 'value': 4.145532734179358}, {'date': '22/2/18', 'value': 4.626505949626628}]\n",
      "ODP\n",
      "[{'date': '28/2/18', 'value': 2.1464632775909975}]\n",
      "PIR\n",
      "[{'date': '29/4/14', 'value': 7.1621006407597525}, {'date': '7/1/15', 'value': 5.3470553770330875}, {'date': '6/1/16', 'value': 4.481511463733722}, {'date': '4/1/17', 'value': 4.5885680395140325}, {'date': '3/1/18', 'value': 4.544862764343362}]\n",
      "SMRT\n",
      "[{'date': '22/12/11', 'value': 4.426441714705882}, {'date': '6/6/12', 'value': 4.557674338474406}, {'date': '3/5/13', 'value': 4.278966463676528}, {'date': '7/6/18', 'value': 2.54536537083701}]\n",
      "\n",
      "[{'date': '15/9/15', 'value': 2.1409260807255155}, {'date': '24/3/16', 'value': 1.855744918536102}, {'date': '12/4/17', 'value': 2.1430518611012386}]\n"
     ]
    }
   ],
   "source": [
    "not_detected = [b for b in true_bankrupt if b not in zscore_bankrupt]\n",
    "print(not_detected)\n",
    "for obj in data:\n",
    "    if obj['ticker'] in not_detected:\n",
    "        if 'zscore' in obj:\n",
    "            print(obj['ticker'])\n",
    "            print(obj['zscore'])\n",
    "#         else:\n",
    "#             print(obj['ticker'])"
   ]
  },
  {
   "cell_type": "code",
   "execution_count": 6,
   "metadata": {},
   "outputs": [
    {
     "data": {
      "text/plain": [
       "(1362, 5, 13)"
      ]
     },
     "execution_count": 6,
     "metadata": {},
     "output_type": "execute_result"
    }
   ],
   "source": [
    "arr = np.array(new_data)\n",
    "test_arr = np.array(ground_truth)\n",
    "arr.shape"
   ]
  },
  {
   "cell_type": "code",
   "execution_count": 7,
   "metadata": {},
   "outputs": [],
   "source": [
    "def train_model(x_train, y_train, units, dropout, num_lstm_layers, model_type, epoch, batch_size):\n",
    "    model = Sequential(\n",
    "        [\n",
    "            LSTM(units, return_sequences=True, input_shape=(x_train.shape[1], x_train.shape[2])) if model_type == 'lstm' \n",
    "            else GRU(units, return_sequences=True, input_shape=(x_train.shape[1], x_train.shape[2])) if model_type == 'gru' \n",
    "            else SimpleRNN(units, return_sequences=True, input_shape=(x_train.shape[1], x_train.shape[2])),\n",
    "            Dropout(dropout)\n",
    "        ] +\n",
    "        [\n",
    "            LSTM(units, return_sequences=True) if model_type == 'lstm' else \n",
    "            GRU(units, return_sequences=True) if model_type == 'gru' else\n",
    "            SimpleRNN(units, return_sequences=True),\n",
    "            Dropout(dropout)\n",
    "        ] * (num_lstm_layers - 2) +\n",
    "        [\n",
    "            LSTM(units) if model_type == 'lstm' else \n",
    "            GRU(units) if model_type == 'gru' else\n",
    "            SimpleRNN(units),\n",
    "            Dropout(dropout),\n",
    "            Dense(1, activation = 'sigmoid')\n",
    "        ])\n",
    "    model.compile(optimizer=optimizers.RMSprop(lr=0.003),loss='binary_crossentropy', metrics=['accuracy'])\n",
    "    history = model.fit(x_train, y_train, epochs=epoch, batch_size=batch_size)\n",
    "    return model, history"
   ]
  },
  {
   "cell_type": "code",
   "execution_count": 8,
   "metadata": {},
   "outputs": [
    {
     "name": "stdout",
     "output_type": "stream",
     "text": [
      "bankrupt:\n",
      "445\n",
      "not bankrupt:\n",
      "917\n"
     ]
    }
   ],
   "source": [
    "scalers = {}\n",
    "for i in range(arr.shape[2]):\n",
    "    scalers[i] = MinMaxScaler(feature_range=(0,1))\n",
    "    arr[:, :, i] = scalers[i].fit_transform(arr[:, :, i])\n",
    "    test_arr[:, :, i] = scalers[i].transform(test_arr[:, :, i])\n",
    "x_train, x_test, y_train, y_test = train_test_split(arr, bankrupt, test_size=0.15, random_state=42)\n",
    "print('bankrupt:')\n",
    "print(len([True for b in bankrupt if b]))\n",
    "print('not bankrupt:')\n",
    "print(len([True for b in bankrupt if not b]))"
   ]
  },
  {
   "cell_type": "code",
   "execution_count": 9,
   "metadata": {},
   "outputs": [
    {
     "name": "stderr",
     "output_type": "stream",
     "text": [
      "WARNING: Logging before flag parsing goes to stderr.\n",
      "W1003 10:42:02.570125 56352 deprecation_wrapper.py:119] From C:\\Users\\yihao001\\AppData\\Local\\Continuum\\anaconda3\\lib\\site-packages\\keras\\backend\\tensorflow_backend.py:74: The name tf.get_default_graph is deprecated. Please use tf.compat.v1.get_default_graph instead.\n",
      "\n",
      "W1003 10:42:02.571123 56352 deprecation_wrapper.py:119] From C:\\Users\\yihao001\\AppData\\Local\\Continuum\\anaconda3\\lib\\site-packages\\keras\\backend\\tensorflow_backend.py:517: The name tf.placeholder is deprecated. Please use tf.compat.v1.placeholder instead.\n",
      "\n",
      "W1003 10:42:02.586082 56352 deprecation_wrapper.py:119] From C:\\Users\\yihao001\\AppData\\Local\\Continuum\\anaconda3\\lib\\site-packages\\keras\\backend\\tensorflow_backend.py:4138: The name tf.random_uniform is deprecated. Please use tf.random.uniform instead.\n",
      "\n",
      "W1003 10:42:02.869389 56352 deprecation_wrapper.py:119] From C:\\Users\\yihao001\\AppData\\Local\\Continuum\\anaconda3\\lib\\site-packages\\keras\\backend\\tensorflow_backend.py:133: The name tf.placeholder_with_default is deprecated. Please use tf.compat.v1.placeholder_with_default instead.\n",
      "\n",
      "W1003 10:42:02.875374 56352 deprecation.py:506] From C:\\Users\\yihao001\\AppData\\Local\\Continuum\\anaconda3\\lib\\site-packages\\keras\\backend\\tensorflow_backend.py:3445: calling dropout (from tensorflow.python.ops.nn_ops) with keep_prob is deprecated and will be removed in a future version.\n",
      "Instructions for updating:\n",
      "Please use `rate` instead of `keep_prob`. Rate should be set to `rate = 1 - keep_prob`.\n",
      "W1003 10:42:03.310202 56352 deprecation_wrapper.py:119] From C:\\Users\\yihao001\\AppData\\Local\\Continuum\\anaconda3\\lib\\site-packages\\keras\\optimizers.py:790: The name tf.train.Optimizer is deprecated. Please use tf.compat.v1.train.Optimizer instead.\n",
      "\n",
      "W1003 10:42:03.316185 56352 deprecation_wrapper.py:119] From C:\\Users\\yihao001\\AppData\\Local\\Continuum\\anaconda3\\lib\\site-packages\\keras\\backend\\tensorflow_backend.py:3376: The name tf.log is deprecated. Please use tf.math.log instead.\n",
      "\n",
      "W1003 10:42:03.321173 56352 deprecation.py:323] From C:\\Users\\yihao001\\AppData\\Local\\Continuum\\anaconda3\\lib\\site-packages\\tensorflow\\python\\ops\\nn_impl.py:180: add_dispatch_support.<locals>.wrapper (from tensorflow.python.ops.array_ops) is deprecated and will be removed in a future version.\n",
      "Instructions for updating:\n",
      "Use tf.where in 2.0, which has the same broadcast rule as np.where\n"
     ]
    },
    {
     "name": "stdout",
     "output_type": "stream",
     "text": [
      "Epoch 1/100\n",
      "1157/1157 [==============================] - 4s 4ms/step - loss: 0.6459 - acc: 0.6638\n",
      "Epoch 2/100\n",
      "1157/1157 [==============================] - 1s 459us/step - loss: 0.6360 - acc: 0.6742\n",
      "Epoch 3/100\n",
      "1157/1157 [==============================] - 1s 465us/step - loss: 0.6331 - acc: 0.6716\n",
      "Epoch 4/100\n",
      "1157/1157 [==============================] - 1s 515us/step - loss: 0.6164 - acc: 0.6621\n",
      "Epoch 5/100\n",
      "1157/1157 [==============================] - 1s 473us/step - loss: 0.6126 - acc: 0.6724\n",
      "Epoch 6/100\n",
      "1157/1157 [==============================] - 1s 463us/step - loss: 0.5993 - acc: 0.6733\n",
      "Epoch 7/100\n",
      "1157/1157 [==============================] - 1s 463us/step - loss: 0.5937 - acc: 0.6802\n",
      "Epoch 8/100\n",
      "1157/1157 [==============================] - 1s 460us/step - loss: 0.5995 - acc: 0.6612\n",
      "Epoch 9/100\n",
      "1157/1157 [==============================] - 1s 454us/step - loss: 0.5909 - acc: 0.6672\n",
      "Epoch 10/100\n",
      "1157/1157 [==============================] - 1s 471us/step - loss: 0.5808 - acc: 0.6655\n",
      "Epoch 11/100\n",
      "1157/1157 [==============================] - 1s 547us/step - loss: 0.5842 - acc: 0.6845\n",
      "Epoch 12/100\n",
      "1157/1157 [==============================] - 1s 540us/step - loss: 0.5695 - acc: 0.6750\n",
      "Epoch 13/100\n",
      "1157/1157 [==============================] - 1s 542us/step - loss: 0.5830 - acc: 0.6863\n",
      "Epoch 14/100\n",
      "1157/1157 [==============================] - 1s 555us/step - loss: 0.5790 - acc: 0.6724\n",
      "Epoch 15/100\n",
      "1157/1157 [==============================] - 1s 1ms/step - loss: 0.5737 - acc: 0.6785\n",
      "Epoch 16/100\n",
      "1157/1157 [==============================] - 1s 576us/step - loss: 0.5643 - acc: 0.6698\n",
      "Epoch 17/100\n",
      "1157/1157 [==============================] - 1s 543us/step - loss: 0.5646 - acc: 0.6845\n",
      "Epoch 18/100\n",
      "1157/1157 [==============================] - 1s 531us/step - loss: 0.5664 - acc: 0.6776\n",
      "Epoch 19/100\n",
      "1157/1157 [==============================] - 1s 574us/step - loss: 0.5710 - acc: 0.6889\n",
      "Epoch 20/100\n",
      "1157/1157 [==============================] - 1s 655us/step - loss: 0.5565 - acc: 0.6612\n",
      "Epoch 21/100\n",
      "1157/1157 [==============================] - 1s 515us/step - loss: 0.5654 - acc: 0.6880\n",
      "Epoch 22/100\n",
      "1157/1157 [==============================] - 1s 533us/step - loss: 0.5484 - acc: 0.7156\n",
      "Epoch 23/100\n",
      "1157/1157 [==============================] - 1s 476us/step - loss: 0.5469 - acc: 0.6958\n",
      "Epoch 24/100\n",
      "1157/1157 [==============================] - 1s 461us/step - loss: 0.5446 - acc: 0.7035\n",
      "Epoch 25/100\n",
      "1157/1157 [==============================] - 1s 463us/step - loss: 0.5425 - acc: 0.6906\n",
      "Epoch 26/100\n",
      "1157/1157 [==============================] - 1s 472us/step - loss: 0.5579 - acc: 0.6793\n",
      "Epoch 27/100\n",
      "1157/1157 [==============================] - 1s 465us/step - loss: 0.5511 - acc: 0.6742\n",
      "Epoch 28/100\n",
      "1157/1157 [==============================] - 1s 467us/step - loss: 0.5521 - acc: 0.7018\n",
      "Epoch 29/100\n",
      "1157/1157 [==============================] - 1s 463us/step - loss: 0.5426 - acc: 0.6975\n",
      "Epoch 30/100\n",
      "1157/1157 [==============================] - 1s 479us/step - loss: 0.5429 - acc: 0.6984\n",
      "Epoch 31/100\n",
      "1157/1157 [==============================] - 1s 478us/step - loss: 0.5542 - acc: 0.6742\n",
      "Epoch 32/100\n",
      "1157/1157 [==============================] - 1s 458us/step - loss: 0.5451 - acc: 0.6889\n",
      "Epoch 33/100\n",
      "1157/1157 [==============================] - 1s 459us/step - loss: 0.5418 - acc: 0.7010\n",
      "Epoch 34/100\n",
      "1157/1157 [==============================] - 1s 463us/step - loss: 0.5424 - acc: 0.6992\n",
      "Epoch 35/100\n",
      "1157/1157 [==============================] - 1s 462us/step - loss: 0.5405 - acc: 0.6984\n",
      "Epoch 36/100\n",
      "1157/1157 [==============================] - 1s 465us/step - loss: 0.5320 - acc: 0.7087\n",
      "Epoch 37/100\n",
      "1157/1157 [==============================] - 1s 490us/step - loss: 0.5339 - acc: 0.7010\n",
      "Epoch 38/100\n",
      "1157/1157 [==============================] - 1s 612us/step - loss: 0.5393 - acc: 0.6923\n",
      "Epoch 39/100\n",
      "1157/1157 [==============================] - 1s 463us/step - loss: 0.5296 - acc: 0.7087\n",
      "Epoch 40/100\n",
      "1157/1157 [==============================] - 1s 456us/step - loss: 0.5242 - acc: 0.7338\n",
      "Epoch 41/100\n",
      "1157/1157 [==============================] - 1s 473us/step - loss: 0.5308 - acc: 0.7096\n",
      "Epoch 42/100\n",
      "1157/1157 [==============================] - 1s 479us/step - loss: 0.5298 - acc: 0.7122\n",
      "Epoch 43/100\n",
      "1157/1157 [==============================] - 1s 462us/step - loss: 0.5409 - acc: 0.6966\n",
      "Epoch 44/100\n",
      "1157/1157 [==============================] - 1s 473us/step - loss: 0.5246 - acc: 0.7139\n",
      "Epoch 45/100\n",
      "1157/1157 [==============================] - 1s 459us/step - loss: 0.5278 - acc: 0.7079\n",
      "Epoch 46/100\n",
      "1157/1157 [==============================] - 1s 459us/step - loss: 0.5255 - acc: 0.7035\n",
      "Epoch 47/100\n",
      "1157/1157 [==============================] - 1s 477us/step - loss: 0.5312 - acc: 0.7277\n",
      "Epoch 48/100\n",
      "1157/1157 [==============================] - 1s 468us/step - loss: 0.5289 - acc: 0.7035\n",
      "Epoch 49/100\n",
      "1157/1157 [==============================] - 1s 468us/step - loss: 0.5213 - acc: 0.7191\n",
      "Epoch 50/100\n",
      "1157/1157 [==============================] - 1s 459us/step - loss: 0.5289 - acc: 0.7174\n",
      "Epoch 51/100\n",
      "1157/1157 [==============================] - 1s 461us/step - loss: 0.5238 - acc: 0.7217\n",
      "Epoch 52/100\n",
      "1157/1157 [==============================] - 1s 469us/step - loss: 0.5167 - acc: 0.7390\n",
      "Epoch 53/100\n",
      "1157/1157 [==============================] - 1s 472us/step - loss: 0.5178 - acc: 0.7269\n",
      "Epoch 54/100\n",
      "1157/1157 [==============================] - 1s 470us/step - loss: 0.5058 - acc: 0.7347\n",
      "Epoch 55/100\n",
      "1157/1157 [==============================] - 1s 556us/step - loss: 0.5186 - acc: 0.7321\n",
      "Epoch 56/100\n",
      "1157/1157 [==============================] - 1s 571us/step - loss: 0.4981 - acc: 0.7442\n",
      "Epoch 57/100\n",
      "1157/1157 [==============================] - 1s 464us/step - loss: 0.5135 - acc: 0.7355\n",
      "Epoch 58/100\n",
      "1157/1157 [==============================] - 1s 465us/step - loss: 0.5065 - acc: 0.7381\n",
      "Epoch 59/100\n",
      "1157/1157 [==============================] - 1s 465us/step - loss: 0.5090 - acc: 0.7373\n",
      "Epoch 60/100\n",
      "1157/1157 [==============================] - 1s 484us/step - loss: 0.5079 - acc: 0.7373\n",
      "Epoch 61/100\n",
      "1157/1157 [==============================] - 1s 469us/step - loss: 0.5082 - acc: 0.7139\n",
      "Epoch 62/100\n",
      "1157/1157 [==============================] - 1s 472us/step - loss: 0.5112 - acc: 0.7277\n",
      "Epoch 63/100\n",
      "1157/1157 [==============================] - 1s 464us/step - loss: 0.5006 - acc: 0.7537\n",
      "Epoch 64/100\n",
      "1157/1157 [==============================] - 1s 458us/step - loss: 0.5104 - acc: 0.7234\n",
      "Epoch 65/100\n",
      "1157/1157 [==============================] - 1s 497us/step - loss: 0.5072 - acc: 0.7295\n",
      "Epoch 66/100\n",
      "1157/1157 [==============================] - 1s 461us/step - loss: 0.5082 - acc: 0.7295\n",
      "Epoch 67/100\n",
      "1157/1157 [==============================] - 1s 476us/step - loss: 0.5136 - acc: 0.7234\n",
      "Epoch 68/100\n",
      "1157/1157 [==============================] - 1s 460us/step - loss: 0.5052 - acc: 0.7398\n",
      "Epoch 69/100\n",
      "1157/1157 [==============================] - 1s 471us/step - loss: 0.4981 - acc: 0.7390\n",
      "Epoch 70/100\n",
      "1157/1157 [==============================] - 1s 471us/step - loss: 0.5102 - acc: 0.7269\n",
      "Epoch 71/100\n",
      "1157/1157 [==============================] - 1s 472us/step - loss: 0.5004 - acc: 0.7347\n",
      "Epoch 72/100\n",
      "1157/1157 [==============================] - 1s 458us/step - loss: 0.4998 - acc: 0.7502\n",
      "Epoch 73/100\n",
      "1157/1157 [==============================] - 1s 1ms/step - loss: 0.5105 - acc: 0.7407\n",
      "Epoch 74/100\n",
      "1157/1157 [==============================] - 1s 695us/step - loss: 0.5013 - acc: 0.7321\n",
      "Epoch 75/100\n",
      "1157/1157 [==============================] - 1s 851us/step - loss: 0.5052 - acc: 0.7433\n",
      "Epoch 76/100\n",
      "1157/1157 [==============================] - 1s 469us/step - loss: 0.5004 - acc: 0.7407\n",
      "Epoch 77/100\n",
      "1157/1157 [==============================] - 1s 480us/step - loss: 0.4919 - acc: 0.7554\n",
      "Epoch 78/100\n",
      "1157/1157 [==============================] - 1s 461us/step - loss: 0.4967 - acc: 0.7502\n",
      "Epoch 79/100\n",
      "1157/1157 [==============================] - 1s 915us/step - loss: 0.4986 - acc: 0.7459\n",
      "Epoch 80/100\n",
      "1157/1157 [==============================] - 1s 817us/step - loss: 0.4901 - acc: 0.7450\n",
      "Epoch 81/100\n",
      "1157/1157 [==============================] - 1s 472us/step - loss: 0.4825 - acc: 0.7563\n",
      "Epoch 82/100\n"
     ]
    },
    {
     "name": "stdout",
     "output_type": "stream",
     "text": [
      "1157/1157 [==============================] - 1s 497us/step - loss: 0.4955 - acc: 0.7537\n",
      "Epoch 83/100\n",
      "1157/1157 [==============================] - 1s 564us/step - loss: 0.4878 - acc: 0.7442\n",
      "Epoch 84/100\n",
      "1157/1157 [==============================] - 1s 708us/step - loss: 0.4974 - acc: 0.7407\n",
      "Epoch 85/100\n",
      "1157/1157 [==============================] - 1s 687us/step - loss: 0.5017 - acc: 0.7424\n",
      "Epoch 86/100\n",
      "1157/1157 [==============================] - 1s 638us/step - loss: 0.4830 - acc: 0.7485\n",
      "Epoch 87/100\n",
      "1157/1157 [==============================] - 1s 465us/step - loss: 0.4955 - acc: 0.7468\n",
      "Epoch 88/100\n",
      "1157/1157 [==============================] - 1s 461us/step - loss: 0.4879 - acc: 0.7563\n",
      "Epoch 89/100\n",
      "1157/1157 [==============================] - 1s 464us/step - loss: 0.4884 - acc: 0.7338\n",
      "Epoch 90/100\n",
      "1157/1157 [==============================] - 1s 463us/step - loss: 0.4907 - acc: 0.7416\n",
      "Epoch 91/100\n",
      "1157/1157 [==============================] - 1s 478us/step - loss: 0.4848 - acc: 0.7494\n",
      "Epoch 92/100\n",
      "1157/1157 [==============================] - 1s 462us/step - loss: 0.4809 - acc: 0.7537\n",
      "Epoch 93/100\n",
      "1157/1157 [==============================] - 1s 474us/step - loss: 0.4921 - acc: 0.7701\n",
      "Epoch 94/100\n",
      "1157/1157 [==============================] - 1s 476us/step - loss: 0.4811 - acc: 0.7632\n",
      "Epoch 95/100\n",
      "1157/1157 [==============================] - 1s 464us/step - loss: 0.4907 - acc: 0.7502\n",
      "Epoch 96/100\n",
      "1157/1157 [==============================] - 1s 458us/step - loss: 0.4829 - acc: 0.7519\n",
      "Epoch 97/100\n",
      "1157/1157 [==============================] - 1s 461us/step - loss: 0.4735 - acc: 0.7554\n",
      "Epoch 98/100\n",
      "1157/1157 [==============================] - 1s 475us/step - loss: 0.4844 - acc: 0.7554\n",
      "Epoch 99/100\n",
      "1157/1157 [==============================] - 1s 471us/step - loss: 0.4867 - acc: 0.7485\n",
      "Epoch 100/100\n",
      "1157/1157 [==============================] - 1s 468us/step - loss: 0.4871 - acc: 0.7528\n"
     ]
    }
   ],
   "source": [
    "EPOCH = 100\n",
    "BATCH_SIZE = 30\n",
    "LSTM_UNITS = 60\n",
    "DROPOUT = 0.2\n",
    "NUM_LSTM_LAYERS = 4\n",
    "lstm_model, lstm_history = train_model(x_train, y_train, LSTM_UNITS, DROPOUT, NUM_LSTM_LAYERS, 'gru', EPOCH, BATCH_SIZE)"
   ]
  },
  {
   "cell_type": "code",
   "execution_count": 10,
   "metadata": {},
   "outputs": [
    {
     "data": {
      "image/png": "[encoded data removed]",
      "text/plain": [
       "<Figure size 2160x1080 with 1 Axes>"
      ]
     },
     "metadata": {
      "needs_background": "light"
     },
     "output_type": "display_data"
    }
   ],
   "source": [
    "def plot_loss(history):\n",
    "    plt.plot(history.history['loss'])\n",
    "    plt.title('Model Loss')\n",
    "    plt.ylabel('Loss')\n",
    "    plt.xlabel('Epoch')\n",
    "    plt.show()\n",
    "    \n",
    "plot_loss(lstm_history)"
   ]
  },
  {
   "cell_type": "code",
   "execution_count": 11,
   "metadata": {},
   "outputs": [
    {
     "name": "stdout",
     "output_type": "stream",
     "text": [
      "205/205 [==============================] - 1s 3ms/step\n",
      "model: \n",
      "acc: 63.90%\n",
      "[[71 66]\n",
      " [ 8 60]]\n",
      "0.7003005581794761\n"
     ]
    }
   ],
   "source": [
    "# Evaluate model and predict data\n",
    "scores = lstm_model.evaluate(x_test, y_test)\n",
    "print(\"model: \\n%s: %.2f%%\" % (lstm_model.metrics_names[1], scores[1]*100))\n",
    "\n",
    "y_predict = lstm_model.predict_classes(x_test)\n",
    "cm = confusion_matrix(y_test, y_predict)\n",
    "print(cm)\n",
    "\n",
    "fpr_BDmodel, tpr_BDmodel, thresholds_BDmodel = roc_curve(y_test, y_predict)\n",
    "auc_BDmodel = auc(fpr_BDmodel, tpr_BDmodel)\n",
    "print(auc_BDmodel)"
   ]
  },
  {
   "cell_type": "code",
   "execution_count": 12,
   "metadata": {},
   "outputs": [
    {
     "data": {
      "text/plain": [
       "(71, 66, 8, 60)"
      ]
     },
     "execution_count": 12,
     "metadata": {},
     "output_type": "execute_result"
    }
   ],
   "source": [
    "tn, fp, fn, tp = cm.ravel()\n",
    "(tn, fp, fn, tp)"
   ]
  },
  {
   "cell_type": "code",
   "execution_count": 13,
   "metadata": {},
   "outputs": [
    {
     "name": "stdout",
     "output_type": "stream",
     "text": [
      "24/24 [==============================] - 0s 332us/step\n",
      "model: \n",
      "acc: 91.67%\n",
      "[[ 0  0]\n",
      " [ 2 22]]\n"
     ]
    }
   ],
   "source": [
    "# Evaluate model and predict data\n",
    "scores = lstm_model.evaluate(test_arr, ground_bankrupt)\n",
    "print(\"model: \\n%s: %.2f%%\" % (lstm_model.metrics_names[1], scores[1]*100))\n",
    "\n",
    "y_predict = lstm_model.predict_classes(test_arr)\n",
    "cm = confusion_matrix(ground_bankrupt, y_predict)\n",
    "print(cm)\n",
    "\n",
    "# fpr_BDmodel, tpr_BDmodel, thresholds_BDmodel = roc_curve(ground_bankrupt, y_predict)\n",
    "# auc_BDmodel = auc(fpr_BDmodel, tpr_BDmodel)\n",
    "# print(auc_BDmodel)"
   ]
  }
 ],
 "metadata": {
  "kernelspec": {
   "display_name": "Python 3",
   "language": "python",
   "name": "python3"
  },
  "language_info": {
   "codemirror_mode": {
    "name": "ipython",
    "version": 3
   },
   "file_extension": ".py",
   "mimetype": "text/x-python",
   "name": "python",
   "nbconvert_exporter": "python",
   "pygments_lexer": "ipython3",
   "version": "3.7.3"
  }
 },
 "nbformat": 4,
 "nbformat_minor": 2
}
