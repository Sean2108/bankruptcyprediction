{
 "cells": [
  {
   "cell_type": "code",
   "execution_count": 26,
   "metadata": {},
   "outputs": [],
   "source": [
    "import math\n",
    "import pickle"
   ]
  },
  {
   "cell_type": "code",
   "execution_count": 9,
   "metadata": {},
   "outputs": [],
   "source": [
    "with open('financial_statements.pickle', 'rb') as fp:\n",
    "    data = pickle.load(fp)"
   ]
  },
  {
   "cell_type": "code",
   "execution_count": 17,
   "metadata": {},
   "outputs": [
    {
     "data": {
      "text/plain": [
       "['SimFin ID',\n",
       " 'company',\n",
       " 'ticker',\n",
       " 'financial year end (month)',\n",
       " 'industry code',\n",
       " 'Share Price',\n",
       " 'Common Shares Outstanding',\n",
       " 'Avg. Basic Shares Outstanding',\n",
       " 'Avg. Diluted Shares Outstanding',\n",
       " 'Revenues',\n",
       " 'COGS',\n",
       " 'SG&A',\n",
       " 'EBIT',\n",
       " 'EBITDA',\n",
       " 'Net Income from Discontinued Op.',\n",
       " 'Net Profit',\n",
       " 'Dividends',\n",
       " 'Cash and Cash Equivalents',\n",
       " 'Receivables',\n",
       " 'Current Assets',\n",
       " 'Net PP&E',\n",
       " 'Intangible Assets',\n",
       " 'Goodwill',\n",
       " 'Total Noncurrent Assets',\n",
       " 'Total Assets',\n",
       " 'Short term debt',\n",
       " 'Accounts Payable',\n",
       " 'Current Liabilities',\n",
       " 'Long Term Debt',\n",
       " 'Total Noncurrent Liabilities',\n",
       " 'Total Liabilities',\n",
       " 'Preferred Equity',\n",
       " 'Share Capital',\n",
       " 'Treasury Stock',\n",
       " 'Retained Earnings',\n",
       " 'Equity Before Minorities',\n",
       " 'Minorities',\n",
       " 'Total Equity',\n",
       " 'Cash From Operating Activities',\n",
       " 'Cash From Investing Activities',\n",
       " 'Cash From Financing Activities',\n",
       " 'Net Change in Cash']"
      ]
     },
     "execution_count": 17,
     "metadata": {},
     "output_type": "execute_result"
    }
   ],
   "source": [
    "[x for x in data[0]]"
   ]
  },
  {
   "cell_type": "code",
   "execution_count": 11,
   "metadata": {},
   "outputs": [],
   "source": [
    "for obj in data:\n",
    "    for key in obj:\n",
    "        if isinstance(obj[key], list):\n",
    "            for i in range(len(obj[key])):\n",
    "                try:\n",
    "                    obj[key][i] = float(obj[key][i])\n",
    "                except ValueError:\n",
    "                    obj[key][i] = None"
   ]
  },
  {
   "cell_type": "code",
   "execution_count": 18,
   "metadata": {},
   "outputs": [
    {
     "data": {
      "text/plain": [
       "[14.238,\n",
       " 17.968,\n",
       " 21.469,\n",
       " 23.638,\n",
       " 28.293,\n",
       " 25.786,\n",
       " 24.907,\n",
       " 26.846,\n",
       " 19.156,\n",
       " 23.706,\n",
       " 24.159,\n",
       " 70.293,\n",
       " 56.935,\n",
       " 37.617,\n",
       " 21.974,\n",
       " 41.524,\n",
       " 44.526,\n",
       " 43.282,\n",
       " 42.444,\n",
       " 44.612,\n",
       " 41.563,\n",
       " 46.359,\n",
       " 49.865,\n",
       " 37.78,\n",
       " 41.626,\n",
       " 41.048,\n",
       " 37.685]"
      ]
     },
     "execution_count": 18,
     "metadata": {},
     "output_type": "execute_result"
    }
   ],
   "source": [
    "[x for x in data[0]['EBIT'] if x]"
   ]
  },
  {
   "cell_type": "code",
   "execution_count": 31,
   "metadata": {},
   "outputs": [],
   "source": [
    "# X21\tsales (n) / sales (n-1) \n",
    "# X22\tprofit on operating activities / total assets \n",
    "# X23\tnet profit / sales \n",
    "# X24\tgross profit (in 3 years) / total assets \n",
    "# X25\t(equity - share capital) / total assets \n",
    "# X26\t(net profit + depreciation) / total liabilities \n",
    "# X27\tprofit on operating activities / financial expenses \n",
    "# X28\tworking capital / fixed assets \n",
    "# X29\tlogarithm of total assets \n",
    "# X30\t(total liabilities - cash) / sales \n",
    "# X31\t(gross profit + interest) / sales \n",
    "# X32\t(current liabilities * 365) / cost of products sold \n",
    "# X33\toperating expenses / short-term liabilities \n",
    "# X34\toperating expenses / total liabilities \n",
    "# X35\tprofit on sales / total assets \n",
    "# X36\ttotal sales / total assets \n",
    "# X37\t(current assets - inventories) / long-term liabilities \n",
    "# X38\tconstant capital / total assets \n",
    "# X39\tprofit on sales / sales \n",
    "# X40\t(current assets - inventory - receivables) / short-term liabilities \n",
    "\n",
    "def get_21_40_features(obj):\n",
    "    def catchError(obj, i, func):\n",
    "        try:\n",
    "            return func(obj, i)\n",
    "        except (TypeError, ZeroDivisionError, ValueError):\n",
    "            return '';\n",
    "    funcs = {\n",
    "        'x21': lambda obj, i: '',\n",
    "        'x22': lambda obj, i: obj['Cash From Operating Activities'][i] / obj['Total Assets'][i], # assume cash from operating activities === cash from operating activities\n",
    "        'x23': lambda obj, i: obj['Net Profit'][i] / obj['Total Assets'][i],\n",
    "        'x24': lambda obj, i: '', # gross profit (in 3 years) missing \n",
    "        'x25': lambda obj, i: (obj['Total Equity'][i] - obj['Share Capital'][i])  / obj['Total Assets'][i],\n",
    "        'x26': lambda obj, i: '', # depreciation missing \n",
    "        'x27': lambda obj, i: '', # financial expenses missing \n",
    "        'x28': lambda obj, i: (obj['Current Assets'][i] - obj['Current Liabilities'][i]) / obj['Net PP&E'][i], # assume net pp&e === fixed assets check 53\n",
    "        'x29': lambda obj, i: math.log10(obj['Total Assets'][i]),\n",
    "        'x30': lambda obj, i: (obj['Total Liabilities'][i] - obj['Cash and Cash Equivalents'][i]) / obj['Revenues'][i],\n",
    "        'x31': lambda obj, i: '', # interest missing\n",
    "        'x32': lambda obj, i: obj['Current Liabilities'][i] * 365 / obj['COGS'][i], # same as #52\n",
    "        'x33': lambda obj, i: (obj['COGS'][i] + obj['SG&A'][i]) / obj['Current Liabilities'][i], # assume cogs + sg&a === operating expenses\n",
    "        'x34': lambda obj, i: (obj['COGS'][i] + obj['SG&A'][i]) / obj['Total Liabilities'][i], # assume cogs + sg&a === operating expenses\n",
    "        'x35': lambda obj, i: '', # missing net revenue\n",
    "        'x36': lambda obj, i: obj['Revenues'][i] / obj['Total Assets'][i],\n",
    "        'x37': lambda obj, i: '', # missing inventories\n",
    "        'x38': lambda obj, i: '', # constant capital ?? === fixed assets === total noncurrent assets??\n",
    "        'x39': lambda obj, i: '', # missing net revenue\n",
    "        'x40': lambda obj, i: '' # missing inventories\n",
    "    }\n",
    "    res = {ratio:[catchError(obj, i, funcs[ratio]) for i in range(len(obj['Share Price']))] for ratio in funcs}\n",
    "    return res"
   ]
  },
  {
   "cell_type": "code",
   "execution_count": 32,
   "metadata": {},
   "outputs": [],
   "source": [
    "x = get_21_40_features(data[0])"
   ]
  },
  {
   "cell_type": "code",
   "execution_count": 33,
   "metadata": {},
   "outputs": [
    {
     "data": {
      "text/plain": [
       "[0.07258812615955473,\n",
       " 0.15170491165579128,\n",
       " 0.14810701630787493,\n",
       " 0.14406003962896072,\n",
       " 0.16186624617382434,\n",
       " 0.1385395464524359,\n",
       " 0.07474832520659377,\n",
       " 0.11044964453514641,\n",
       " 0.12062762227714235,\n",
       " 0.15898702764520553,\n",
       " 0.14219929654058247,\n",
       " 0.34154979363465593,\n",
       " 0.30386411955795206,\n",
       " 0.2529467502761164,\n",
       " 0.07441448497978191,\n",
       " 0.09313881342646953,\n",
       " 0.12261028383994632,\n",
       " 0.11467150222391892,\n",
       " 0.10463891096682557,\n",
       " 0.09050403877221325,\n",
       " 0.0775530846724145,\n",
       " 0.11043133563813419,\n",
       " 0.14355897433895534,\n",
       " 0.10047274582551718,\n",
       " 0.11286869710512613,\n",
       " 0.10219324597250955,\n",
       " 0.13174128985118524]"
      ]
     },
     "execution_count": 33,
     "metadata": {},
     "output_type": "execute_result"
    }
   ],
   "source": [
    "[a for a in x['x22'] if a != '']"
   ]
  },
  {
   "cell_type": "code",
   "execution_count": null,
   "metadata": {},
   "outputs": [],
   "source": []
  }
 ],
 "metadata": {
  "kernelspec": {
   "display_name": "Python 3",
   "language": "python",
   "name": "python3"
  },
  "language_info": {
   "codemirror_mode": {
    "name": "ipython",
    "version": 3
   },
   "file_extension": ".py",
   "mimetype": "text/x-python",
   "name": "python",
   "nbconvert_exporter": "python",
   "pygments_lexer": "ipython3",
   "version": "3.7.1"
  }
 },
 "nbformat": 4,
 "nbformat_minor": 2
}
